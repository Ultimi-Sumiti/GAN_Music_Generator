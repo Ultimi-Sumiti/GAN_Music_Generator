{
 "cells": [
  {
   "cell_type": "code",
   "execution_count": 6,
   "id": "9499d742-3ff1-4170-8f84-cefad134df3b",
   "metadata": {},
   "outputs": [],
   "source": [
    "from utils.dataset_loader import *"
   ]
  },
  {
   "cell_type": "code",
   "execution_count": 7,
   "id": "5d07cfd8-4afc-4e8a-b93e-c2e8aa6e01b2",
   "metadata": {},
   "outputs": [],
   "source": [
    "DATASET_PATH = \"data/preprocessed/maestro-v3.0.0/dataset2/dataset_2.h5\""
   ]
  },
  {
   "cell_type": "code",
   "execution_count": 8,
   "id": "67c8c28e-f821-4e93-936d-5a5216e56102",
   "metadata": {},
   "outputs": [],
   "source": [
    "dataset = MaestroV3DataSet(DATASET_PATH, \"triplet\")"
   ]
  },
  {
   "cell_type": "code",
   "execution_count": 11,
   "id": "d8a46e90-10bc-4311-98e0-2099cb097d33",
   "metadata": {},
   "outputs": [
    {
     "name": "stdout",
     "output_type": "stream",
     "text": [
      "torch.Size([13, 1, 1])\n"
     ]
    }
   ],
   "source": [
    "sample = dataset[0]\n",
    "prev = sample[0]\n",
    "curr = sample[1]\n",
    "chords = sample[2]\n",
    "print(chords.shape)"
   ]
  },
  {
   "cell_type": "code",
   "execution_count": null,
   "id": "5082b37a-8d46-4427-8dfb-aaf2ac08b3de",
   "metadata": {},
   "outputs": [],
   "source": []
  }
 ],
 "metadata": {
  "kernelspec": {
   "display_name": "Python (DL & ML)",
   "language": "python",
   "name": "jupyter_env"
  },
  "language_info": {
   "codemirror_mode": {
    "name": "ipython",
    "version": 3
   },
   "file_extension": ".py",
   "mimetype": "text/x-python",
   "name": "python",
   "nbconvert_exporter": "python",
   "pygments_lexer": "ipython3",
   "version": "3.10.18"
  }
 },
 "nbformat": 4,
 "nbformat_minor": 5
}
